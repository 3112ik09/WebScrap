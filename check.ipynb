{
 "cells": [
  {
   "cell_type": "code",
   "execution_count": 10,
   "metadata": {},
   "outputs": [],
   "source": [
    "import requests\n",
    "from bs4 import BeautifulSoup\n",
    "import pandas as pd\n",
    "\n"
   ]
  },
  {
   "cell_type": "code",
   "execution_count": 11,
   "metadata": {},
   "outputs": [
    {
     "name": "stdout",
     "output_type": "stream",
     "text": [
      "   URL_ID                                                URL\n",
      "0   123.0  https://insights.blackcoffer.com/rise-of-telem...\n",
      "1   321.0  https://insights.blackcoffer.com/rise-of-e-hea...\n",
      "2  2345.0  https://insights.blackcoffer.com/rise-of-e-hea...\n",
      "3  4321.0  https://insights.blackcoffer.com/rise-of-telem...\n",
      "4   432.0  https://insights.blackcoffer.com/rise-of-telem...\n"
     ]
    }
   ],
   "source": [
    "excel_file = 'Input.xlsx'\n",
    "df = pd.read_excel(excel_file)\n",
    "print(df.head())"
   ]
  },
  {
   "cell_type": "code",
   "execution_count": 18,
   "metadata": {},
   "outputs": [
    {
     "name": "stdout",
     "output_type": "stream",
     "text": [
      "An error occurred while making the HTTP request for URL: https://insights.blackcoffer.com/how-neural-networks-can-be-applied-in-various-areas-in-the-future/, Error: 404 Client Error: Not Found for url: https://insights.blackcoffer.com/how-neural-networks-can-be-applied-in-various-areas-in-the-future/\n",
      "An error occurred while making the HTTP request for URL: https://insights.blackcoffer.com/covid-19-environmental-impact-for-the-future/, Error: 404 Client Error: Not Found for url: https://insights.blackcoffer.com/covid-19-environmental-impact-for-the-future/\n"
     ]
    }
   ],
   "source": [
    "for index, row in df.iterrows():\n",
    "    result = extract_data(row.URL)\n",
    "    if result!=None:\n",
    "        df.at[index ,'heading'] = result['heading']\n",
    "        df.at[index ,'data'] = result['data']\n",
    "    else:\n",
    "        df.at[index ,'heading'] = None\n",
    "        df.at[index ,'data'] = None\n",
    "\n",
    "df.to_csv('extract.csv', index=False)\n"
   ]
  },
  {
   "cell_type": "code",
   "execution_count": 16,
   "metadata": {},
   "outputs": [],
   "source": [
    "\n",
    "def extract_data(url):\n",
    "    \"\"\"\n",
    "    Extract only the heading and the article data and return result\n",
    "    \"\"\"\n",
    "    try:\n",
    "        response = requests.get(url)\n",
    "        response.raise_for_status()  \n",
    "        html = response.text\n",
    "        soup = BeautifulSoup(html, 'html.parser')\n",
    "        div_with_class = soup.find('div', class_='td-post-content')\n",
    "        heading = soup.find('h1').text\n",
    "\n",
    "        data = \"\"\n",
    "        if div_with_class:\n",
    "            paragraphs = div_with_class.find_all('p')\n",
    "            for paragraph in paragraphs:\n",
    "                data += paragraph.text\n",
    "        else:\n",
    "            print(f\"Div with class 'td-post-content' not found on the page for URL: {url}\")\n",
    "\n",
    "        return {\n",
    "            'heading': heading,\n",
    "            'data': data\n",
    "        }\n",
    "    except requests.exceptions.RequestException as e:\n",
    "        print(f\"An error occurred while making the HTTP request for URL: {url}, Error: {e}\")\n",
    "    except Exception as e:\n",
    "        print(f\"An error occurred for URL: {url}, Error: {e}\")\n",
    "    "
   ]
  },
  {
   "cell_type": "code",
   "execution_count": null,
   "metadata": {},
   "outputs": [],
   "source": []
  }
 ],
 "metadata": {
  "kernelspec": {
   "display_name": "Python 3",
   "language": "python",
   "name": "python3"
  },
  "language_info": {
   "codemirror_mode": {
    "name": "ipython",
    "version": 3
   },
   "file_extension": ".py",
   "mimetype": "text/x-python",
   "name": "python",
   "nbconvert_exporter": "python",
   "pygments_lexer": "ipython3",
   "version": "3.8.10"
  },
  "orig_nbformat": 4
 },
 "nbformat": 4,
 "nbformat_minor": 2
}
